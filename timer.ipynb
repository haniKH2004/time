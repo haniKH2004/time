{
 "cells": [
  {
   "cell_type": "code",
   "execution_count": 1,
   "id": "302d6f73",
   "metadata": {},
   "outputs": [
    {
     "name": "stdout",
     "output_type": "stream",
     "text": [
      "Enter the time in seconds: 60\n",
      "times up!\n"
     ]
    }
   ],
   "source": [
    "\n",
    "# import the time module\n",
    "import time\n",
    "  \n",
    "# define the countdown func.\n",
    "def countdown(t):\n",
    "    \n",
    "    while t:\n",
    "        mins, secs = divmod(t, 60)\n",
    "        timer = '{:02d}:{:02d}'.format(mins, secs)\n",
    "        print(timer, end=\"\\r\")\n",
    "        time.sleep(1)\n",
    "        t -= 1\n",
    "      \n",
    "    print('times up!')\n",
    "  \n",
    "  \n",
    "# input time in seconds\n",
    "t = input(\"Enter the time in seconds: \")\n",
    "  \n",
    "# function call\n",
    "countdown(int(t))\n"
   ]
  },
  {
   "cell_type": "code",
   "execution_count": null,
   "id": "fb2f0ca2",
   "metadata": {},
   "outputs": [],
   "source": []
  }
 ],
 "metadata": {
  "kernelspec": {
   "display_name": "Python 3 (ipykernel)",
   "language": "python",
   "name": "python3"
  },
  "language_info": {
   "codemirror_mode": {
    "name": "ipython",
    "version": 3
   },
   "file_extension": ".py",
   "mimetype": "text/x-python",
   "name": "python",
   "nbconvert_exporter": "python",
   "pygments_lexer": "ipython3",
   "version": "3.9.12"
  }
 },
 "nbformat": 4,
 "nbformat_minor": 5
}
